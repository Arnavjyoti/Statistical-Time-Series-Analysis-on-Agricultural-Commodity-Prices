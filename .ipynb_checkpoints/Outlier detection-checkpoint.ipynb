{
 "cells": [
  {
   "cell_type": "markdown",
   "metadata": {},
   "source": [
    "## 1. Test and filter outliers"
   ]
  },
  {
   "cell_type": "code",
   "execution_count": 2,
   "metadata": {},
   "outputs": [],
   "source": [
    "import pandas as pd\n",
    "pd.set_option('chained_assignment',None)\n",
    "import matplotlib.patches as mpatches\n",
    "import matplotlib.pyplot as plt\n",
    "import seaborn as sns"
   ]
  },
  {
   "cell_type": "code",
   "execution_count": 3,
   "metadata": {},
   "outputs": [],
   "source": [
    "def find_type_outliers(df): #find outlier according to the msprice range of individual Crop Type\n",
    "    types=list(df[\"Type\"].unique())\n",
    "    for typ in types:\n",
    "        data_temp=df[df[\"Type\"]==typ] # Entire data of one type of crop\n",
    "        actual=len(data_temp) # Total instances of each crop type\n",
    "        q1 = data_temp[\"msprice\"].quantile(0.25)\n",
    "        q3 = data_temp[\"msprice\"].quantile(0.75)\n",
    "        iqr = q3-q1 #Interquartile range\n",
    "        lower_threshold  = q1-1.5*iqr\n",
    "        upper_threshold = q3+1.5*iqr\n",
    "        data_filter=data_temp[(data_temp[\"msprice\"] > lower_threshold) & (data_temp[\"msprice\"] < upper_threshold)]\n",
    "        filtered=len(data_filter)\n",
    "        if actual!=filtered:\n",
    "            print(typ)\n",
    "        else:\n",
    "            print(\"No outlier found in \",typ)"
   ]
  },
  {
   "cell_type": "code",
   "execution_count": 4,
   "metadata": {},
   "outputs": [],
   "source": [
    "def plot_commodity_outliers(df): #plot commodity price outliers in a particular type \n",
    "    commodities=list(df[\"commodity\"].unique())\n",
    "    flag=0\n",
    "    for commodity in commodities:\n",
    "        data_temp=df[df[\"commodity\"]==commodity] # taking one type of commodity in one iteration\n",
    "        actual=len(data_temp)\n",
    "        if actual>1 :\n",
    "            q1 = data_temp[\"msprice\"].quantile(0.25)\n",
    "            q3 = data_temp[\"msprice\"].quantile(0.75)\n",
    "            iqr = q3-q1 #Interquartile range\n",
    "            lower_threshold  = q1-1.5*iqr\n",
    "            upper_threshold = q3+1.5*iqr\n",
    "            data_filter=data_temp[(data_temp[\"msprice\"] > lower_threshold) & (data_temp[\"msprice\"] < upper_threshold)]\n",
    "            filtered=len(data_filter)\n",
    "            if actual!=filtered:\n",
    "                flag=1\n",
    "                plt.figure(figsize=(6,4))\n",
    "                plt.title(commodity)\n",
    "                sns.boxplot(x=\"commodity\", y=\"msprice\",data=data_filter) #box plot\n",
    "                sns.stripplot(x=\"commodity\", y=\"msprice\",data=data_temp,\n",
    "                                 jitter=True,marker='o',alpha=0.5,color='red') #overlay data points (show outliers which are not compensated)\n",
    "                patch_1 = mpatches.Patch(color='#31749F', label=commodity)\n",
    "                patch_2 = mpatches.Patch(color='red',alpha=0.5,label='Data Points')\n",
    "                plt.legend(handles=[patch_1,patch_2])\n",
    "                plt.show()\n",
    "    if flag==0:\n",
    "        print(\"No commodity price outlier in \",df[\"Type\"].iloc[0] )"
   ]
  },
  {
   "cell_type": "code",
   "execution_count": 5,
   "metadata": {},
   "outputs": [],
   "source": [
    "def remove_outlier_cmo(df): #find outlier according to the msprice of commodity and remove them\n",
    "    data_main=pd.DataFrame()\n",
    "    commodities=list(df[\"commodity\"].unique())\n",
    "    for commodity in commodities:\n",
    "        data_temp=df[df[\"commodity\"]==commodity]\n",
    "        actual=len(data_temp)\n",
    "        if actual>1:\n",
    "            q1 = data_temp[\"msprice\"].quantile(0.25)\n",
    "            q3 = data_temp[\"msprice\"].quantile(0.75)\n",
    "            iqr = q3-q1 #Interquartile range\n",
    "            lower_threshold  = q1-1.5*iqr\n",
    "            upper_threshold = q3+1.5*iqr\n",
    "            data_temp = data_temp.loc[(data_temp['msprice'] > lower_threshold) & (data_temp['msprice'] < upper_threshold)]\n",
    "            data_temp.sort_values(\"year\",inplace=True)\n",
    "            \n",
    "        data_main=pd.concat([data_main,data_temp])\n",
    "        data_main.reset_index(drop=True,inplace=True)\n",
    "    return data_main"
   ]
  },
  {
   "cell_type": "markdown",
   "metadata": {},
   "source": [
    "### Dataset:  CMO_MSP_Mandi.csv"
   ]
  },
  {
   "cell_type": "code",
   "execution_count": 6,
   "metadata": {},
   "outputs": [
    {
     "data": {
      "text/html": [
       "<div>\n",
       "<style scoped>\n",
       "    .dataframe tbody tr th:only-of-type {\n",
       "        vertical-align: middle;\n",
       "    }\n",
       "\n",
       "    .dataframe tbody tr th {\n",
       "        vertical-align: top;\n",
       "    }\n",
       "\n",
       "    .dataframe thead th {\n",
       "        text-align: right;\n",
       "    }\n",
       "</style>\n",
       "<table border=\"1\" class=\"dataframe\">\n",
       "  <thead>\n",
       "    <tr style=\"text-align: right;\">\n",
       "      <th></th>\n",
       "      <th>commodity</th>\n",
       "      <th>year</th>\n",
       "      <th>Type</th>\n",
       "      <th>msprice</th>\n",
       "      <th>msp_filter</th>\n",
       "    </tr>\n",
       "  </thead>\n",
       "  <tbody>\n",
       "    <tr>\n",
       "      <th>0</th>\n",
       "      <td>PADDY-UNHUSKED</td>\n",
       "      <td>2012</td>\n",
       "      <td>Kharif Crops</td>\n",
       "      <td>1250.0</td>\n",
       "      <td>1</td>\n",
       "    </tr>\n",
       "    <tr>\n",
       "      <th>1</th>\n",
       "      <td>RICE(PADDY-HUS)</td>\n",
       "      <td>2012</td>\n",
       "      <td>Kharif Crops</td>\n",
       "      <td>1280.0</td>\n",
       "      <td>1</td>\n",
       "    </tr>\n",
       "    <tr>\n",
       "      <th>2</th>\n",
       "      <td>Jowar_Hybrid</td>\n",
       "      <td>2012</td>\n",
       "      <td>Kharif Crops</td>\n",
       "      <td>1500.0</td>\n",
       "      <td>1</td>\n",
       "    </tr>\n",
       "    <tr>\n",
       "      <th>3</th>\n",
       "      <td>SORGUM(JAWAR)</td>\n",
       "      <td>2012</td>\n",
       "      <td>Kharif Crops</td>\n",
       "      <td>1520.0</td>\n",
       "      <td>1</td>\n",
       "    </tr>\n",
       "    <tr>\n",
       "      <th>4</th>\n",
       "      <td>BAJRI</td>\n",
       "      <td>2012</td>\n",
       "      <td>Kharif Crops</td>\n",
       "      <td>1175.0</td>\n",
       "      <td>1</td>\n",
       "    </tr>\n",
       "  </tbody>\n",
       "</table>\n",
       "</div>"
      ],
      "text/plain": [
       "         commodity  year          Type  msprice  msp_filter\n",
       "0   PADDY-UNHUSKED  2012  Kharif Crops   1250.0           1\n",
       "1  RICE(PADDY-HUS)  2012  Kharif Crops   1280.0           1\n",
       "2     Jowar_Hybrid  2012  Kharif Crops   1500.0           1\n",
       "3    SORGUM(JAWAR)  2012  Kharif Crops   1520.0           1\n",
       "4            BAJRI  2012  Kharif Crops   1175.0           1"
      ]
     },
     "execution_count": 6,
     "metadata": {},
     "output_type": "execute_result"
    }
   ],
   "source": [
    "df=pd.read_csv(\"Raw Data/CMO_MSP_Mandi.csv\")\n",
    "df=df.dropna(subset=[\"msprice\"])\n",
    "\n",
    "df.head()"
   ]
  }
 ],
 "metadata": {
  "kernelspec": {
   "display_name": "Python 3",
   "language": "python",
   "name": "python3"
  },
  "language_info": {
   "codemirror_mode": {
    "name": "ipython",
    "version": 3
   },
   "file_extension": ".py",
   "mimetype": "text/x-python",
   "name": "python",
   "nbconvert_exporter": "python",
   "pygments_lexer": "ipython3",
   "version": "3.6.5"
  }
 },
 "nbformat": 4,
 "nbformat_minor": 2
}
