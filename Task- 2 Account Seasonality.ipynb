{
 "cells": [
  {
   "cell_type": "markdown",
   "metadata": {},
   "source": [
    "### 1. Detect seasonality type (multiplicative or additive) for each cluster of APMC and commodities"
   ]
  },
  {
   "cell_type": "code",
   "execution_count": 81,
   "metadata": {},
   "outputs": [],
   "source": [
    "import pandas as pd\n",
    "pd.set_option('chained_assignment',None)\n",
    "from statsmodels.tsa.stattools import acf\n",
    "from statsmodels.tsa.seasonal import seasonal_decompose\n",
    "import numpy as np\n",
    "import warnings\n",
    "warnings.filterwarnings(\"ignore\")"
   ]
  },
  {
   "cell_type": "code",
   "execution_count": 82,
   "metadata": {},
   "outputs": [],
   "source": [
    "# A function that checks the seasonality type and deseasonalizes the prices if passed 'True' as a second parameter\n",
    "\n",
    "def check_seasonality_type(data_filter, deseasonalize = False):\n",
    "    data_filter['Period'] = data_filter[\"Year\"].astype(str) + data_filter[\"Month\"]\n",
    "    data_filter['Period'] = pd.to_datetime(data_filter['Period'], format=\"%Y%B\")\n",
    "    \n",
    "    # Temp dataframe to perform decomposition on\n",
    "    ts_df = pd.DataFrame(data=data_filter['modal_price'].values, index=data_filter['Period'], columns=['modal_price'])\n",
    "    ts_df.index = pd.to_datetime(ts_df.index)\n",
    "    \n",
    "    # Dealing with missing values:\n",
    "    # 1. Resampling: parameter 'MS' stands for Month start.\n",
    "    # 2. Filling resampled NaN values with average price of that commodity over time\n",
    "    ts_df = ts_df.resample('MS').mean()\n",
    "    ts_df = ts_df.fillna(int(ts_df['modal_price'].mean()))\n",
    "    \n",
    "    # Decomposing data \n",
    "    resultadd = seasonal_decompose(ts_df, model='additive',freq=12)\n",
    "    resultmult = seasonal_decompose(ts_df, model='multiplicative',freq=12)\n",
    "    \n",
    "    try:\n",
    "        # Auto correlation function returns a value that determines which seasonality type fits the data better\n",
    "        additive_acf=sum(np.asarray(acf(resultadd.resid, missing='drop'))*2)\n",
    "        multiplicative_acf=sum(np.asarray(acf(resultmult.resid, missing='drop'))*2)\n",
    "    \n",
    "    except:\n",
    "        # reducing freq if insufficient data points\n",
    "        resultadd = seasonal_decompose(ts_df, model='additive',freq=6)\n",
    "        resultmult = seasonal_decompose(ts_df, model='multiplicative',freq=6)\n",
    "        additive_acf=sum(np.asarray(acf(resultadd.resid, missing='drop'))*2)\n",
    "        multiplicative_acf=sum(np.asarray(acf(resultmult.resid, missing='drop'))*2)\n",
    "    \n",
    "\n",
    "    if additive_acf<multiplicative_acf:\n",
    "        value = \"Additive\" # Additive seasonality confirmed\n",
    "        if deseasonalize:\n",
    "            # Removing seasonality\n",
    "            ts_df['Seasonal'] = resultadd.seasonal.values\n",
    "            \n",
    "            # Removing seasonality component from additive data\n",
    "            values=ts_df[\"modal_price\"]-ts_df['Seasonal']\n",
    "            values=values.tolist()\n",
    "            \n",
    "            indexes=data_filter.index.tolist()\n",
    "            values_range=range(0,len(values))\n",
    "            for index,value in zip(indexes,values_range):\n",
    "                data_filter.at[index,\"deseasonalise_price\"]=values[value]\n",
    "            \n",
    "            return data_filter[[\"APMC\",\"Commodity\",\"combination_label\",\"date\",\"modal_price\",\"quarter\",\"deseasonalise_price\"]]\n",
    "            \n",
    "        else:\n",
    "            return \"Additive\"\n",
    "        \n",
    "    else:\n",
    "        value = \"Multiplicative\" # Multiplicative seasonality confirmed\n",
    "        if deseasonalize:\n",
    "            # Removing seasonality\n",
    "            ts_df['Seasonal'] = resultmult.seasonal.values\n",
    "            \n",
    "            # Removing seasonality component from multiplicative data\n",
    "            values=ts_df[\"modal_price\"]/ts_df['Seasonal']\n",
    "            values=values.tolist()\n",
    "            \n",
    "            indexes=data_filter.index.tolist()\n",
    "            values_range=range(0,len(values))\n",
    "            for index,value in zip(indexes,values_range):\n",
    "                data_filter.at[index,\"deseasonalise_price\"]=values[value]\n",
    "            \n",
    "            return data_filter[[\"APMC\",\"Commodity\",\"combination_label\",\"date\",\"modal_price\",\"quarter\",\"deseasonalise_price\"]]\n",
    "        \n",
    "        else:\n",
    "            return \"Multiplicative\"\n",
    " "
   ]
  },
  {
   "cell_type": "code",
   "execution_count": 83,
   "metadata": {},
   "outputs": [
    {
     "data": {
      "text/plain": [
       "(25027, 13)"
      ]
     },
     "execution_count": 83,
     "metadata": {},
     "output_type": "execute_result"
    }
   ],
   "source": [
    "df=pd.read_csv(\"seasonal_data_analysis.csv\")\n",
    "df[\"date\"]=pd.to_datetime(df[\"date\"])\n",
    "df.shape"
   ]
  },
  {
   "cell_type": "code",
   "execution_count": 84,
   "metadata": {
    "scrolled": true
   },
   "outputs": [],
   "source": [
    "commodities=list(df[\"combination_label\"].unique())\n",
    "seasonality_type=[]\n",
    "\n",
    "# commodity here stands for combination of APMC and commodity\n",
    "for commodity in commodities:\n",
    "    data_filter=df[df[\"combination_label\"]==commodity]\n",
    "    seasonality_type.append((commodity,check_seasonality_type(data_filter)))"
   ]
  },
  {
   "cell_type": "code",
   "execution_count": 85,
   "metadata": {},
   "outputs": [],
   "source": [
    "# Storing Seasonality types (Task 2.1 completed)\n",
    "\n",
    "dataframe=pd.DataFrame(seasonality_type,columns=[\"Commodity\",\"Seasonality Type\"])\n",
    "dataframe.to_csv(\"seasonality_type.csv\",index=False)"
   ]
  },
  {
   "cell_type": "code",
   "execution_count": 86,
   "metadata": {},
   "outputs": [],
   "source": [
    "# Loading both files to deseasonalize prices\n",
    "\n",
    "df_type=pd.read_csv(\"seasonality_type.csv\").set_index(\"Commodity\").to_dict()[\"Seasonality Type\"]\n",
    "df_data=pd.read_csv(\"seasonal_data_analysis.csv\")\n",
    "\n",
    "#initialize empty column \n",
    "df_data[\"deseasonalise_price\"]=np.nan "
   ]
  },
  {
   "cell_type": "code",
   "execution_count": 87,
   "metadata": {},
   "outputs": [],
   "source": [
    "commoditites=list(df_type.keys())\n",
    "data_main=pd.DataFrame() #new data frame \n",
    "\n",
    "# commodity here stands for combination of APMC and commodity\n",
    "for commodity in commoditites:\n",
    "    data_temp=check_seasonality_type(df_data[df_data[\"combination_label\"]==commodity],deseasonalize = True)\n",
    "    data_main=pd.concat([data_main,data_temp])\n",
    "\n",
    "    "
   ]
  },
  {
   "cell_type": "code",
   "execution_count": 88,
   "metadata": {},
   "outputs": [],
   "source": [
    "# Storing deseasonalzied prices (Task 2.2 completed)\n",
    "data_main.to_csv(\"deseasonalize_data.csv\",index=False)"
   ]
  },
  {
   "cell_type": "code",
   "execution_count": null,
   "metadata": {},
   "outputs": [],
   "source": []
  }
 ],
 "metadata": {
  "kernelspec": {
   "display_name": "Python 3",
   "language": "python",
   "name": "python3"
  },
  "language_info": {
   "codemirror_mode": {
    "name": "ipython",
    "version": 3
   },
   "file_extension": ".py",
   "mimetype": "text/x-python",
   "name": "python",
   "nbconvert_exporter": "python",
   "pygments_lexer": "ipython3",
   "version": "3.6.5"
  }
 },
 "nbformat": 4,
 "nbformat_minor": 2
}
