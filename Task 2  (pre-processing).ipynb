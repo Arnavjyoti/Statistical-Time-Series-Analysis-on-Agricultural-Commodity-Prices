{
 "cells": [
  {
   "cell_type": "markdown",
   "metadata": {},
   "source": [
    "## 2. Understand price fluctuations accounting the seasonal effect"
   ]
  },
  {
   "cell_type": "code",
   "execution_count": 25,
   "metadata": {},
   "outputs": [],
   "source": [
    "import pandas as pd\n",
    "pd.set_option('chained_assignment',None)"
   ]
  },
  {
   "cell_type": "code",
   "execution_count": 26,
   "metadata": {},
   "outputs": [
    {
     "data": {
      "text/plain": [
       "(59841, 13)"
      ]
     },
     "execution_count": 26,
     "metadata": {},
     "output_type": "execute_result"
    }
   ],
   "source": [
    "df=pd.read_csv(\"Monthly_data_cmo_filtered.csv\")\n",
    "df[\"date\"]=pd.to_datetime(df[\"date\"])\n",
    "df[\"quarter\"]=df[\"date\"].dt.quarter\n",
    "df[\"combination_label\"]=df[\"APMC\"]+\":\"+df[\"Commodity\"]\n",
    "df.shape"
   ]
  },
  {
   "cell_type": "code",
   "execution_count": 27,
   "metadata": {},
   "outputs": [],
   "source": [
    "# Grouping based on APMC, comm, year and taking count to remove those clusters with count<12\n",
    "def group(df):\n",
    "    data=df[[\"APMC\",\"Commodity\",\"modal_price\",\"Year\",\"combination_label\"]].groupby([\"APMC\",\"Commodity\",\"Year\",\n",
    "            \"combination_label\"],as_index=False).count().rename(columns={\"modal_price\":\"Count\"}).reset_index(drop=True)\n",
    "    return data"
   ]
  },
  {
   "cell_type": "markdown",
   "metadata": {},
   "source": [
    "### Selecting only those APMC Commodities (cluster) which have data points for atleast a complete year (time series analysis)"
   ]
  },
  {
   "cell_type": "code",
   "execution_count": 44,
   "metadata": {},
   "outputs": [
    {
     "data": {
      "text/html": [
       "<div>\n",
       "<style scoped>\n",
       "    .dataframe tbody tr th:only-of-type {\n",
       "        vertical-align: middle;\n",
       "    }\n",
       "\n",
       "    .dataframe tbody tr th {\n",
       "        vertical-align: top;\n",
       "    }\n",
       "\n",
       "    .dataframe thead th {\n",
       "        text-align: right;\n",
       "    }\n",
       "</style>\n",
       "<table border=\"1\" class=\"dataframe\">\n",
       "  <thead>\n",
       "    <tr style=\"text-align: right;\">\n",
       "      <th></th>\n",
       "      <th>APMC</th>\n",
       "      <th>Commodity</th>\n",
       "      <th>Year</th>\n",
       "      <th>combination_label</th>\n",
       "      <th>Count</th>\n",
       "    </tr>\n",
       "  </thead>\n",
       "  <tbody>\n",
       "    <tr>\n",
       "      <th>0</th>\n",
       "      <td>Aamgaon</td>\n",
       "      <td>paddy-unhusked</td>\n",
       "      <td>2015</td>\n",
       "      <td>Aamgaon:paddy-unhusked</td>\n",
       "      <td>12</td>\n",
       "    </tr>\n",
       "    <tr>\n",
       "      <th>1</th>\n",
       "      <td>Akhadabalapur</td>\n",
       "      <td>soybean</td>\n",
       "      <td>2015</td>\n",
       "      <td>Akhadabalapur:soybean</td>\n",
       "      <td>12</td>\n",
       "    </tr>\n",
       "    <tr>\n",
       "      <th>2</th>\n",
       "      <td>Akluj</td>\n",
       "      <td>bitter gourd</td>\n",
       "      <td>2015</td>\n",
       "      <td>Akluj:bitter gourd</td>\n",
       "      <td>12</td>\n",
       "    </tr>\n",
       "    <tr>\n",
       "      <th>3</th>\n",
       "      <td>Akluj</td>\n",
       "      <td>brinjal</td>\n",
       "      <td>2015</td>\n",
       "      <td>Akluj:brinjal</td>\n",
       "      <td>12</td>\n",
       "    </tr>\n",
       "    <tr>\n",
       "      <th>4</th>\n",
       "      <td>Akluj</td>\n",
       "      <td>cabbage</td>\n",
       "      <td>2015</td>\n",
       "      <td>Akluj:cabbage</td>\n",
       "      <td>12</td>\n",
       "    </tr>\n",
       "  </tbody>\n",
       "</table>\n",
       "</div>"
      ],
      "text/plain": [
       "            APMC       Commodity  Year       combination_label  Count\n",
       "0        Aamgaon  paddy-unhusked  2015  Aamgaon:paddy-unhusked     12\n",
       "1  Akhadabalapur         soybean  2015   Akhadabalapur:soybean     12\n",
       "2          Akluj    bitter gourd  2015      Akluj:bitter gourd     12\n",
       "3          Akluj         brinjal  2015           Akluj:brinjal     12\n",
       "4          Akluj         cabbage  2015           Akluj:cabbage     12"
      ]
     },
     "execution_count": 44,
     "metadata": {},
     "output_type": "execute_result"
    }
   ],
   "source": [
    "\n",
    "data = group(df)\n",
    "data[data['Count']==12].reset_index(drop=True).head()\n"
   ]
  },
  {
   "cell_type": "code",
   "execution_count": 45,
   "metadata": {},
   "outputs": [],
   "source": [
    "filtered=data[\"combination_label\"].unique().tolist()\n",
    "df_filtered=df[df[\"combination_label\"].isin(filtered)].reset_index(drop=True)\n"
   ]
  },
  {
   "cell_type": "code",
   "execution_count": 46,
   "metadata": {},
   "outputs": [],
   "source": [
    "# Data ready to use\n",
    "df_filtered.to_csv(\"seasonal_data_analysis.csv\",index=False)"
   ]
  },
  {
   "cell_type": "code",
   "execution_count": null,
   "metadata": {},
   "outputs": [],
   "source": []
  }
 ],
 "metadata": {
  "kernelspec": {
   "display_name": "Python 3",
   "language": "python",
   "name": "python3"
  },
  "language_info": {
   "codemirror_mode": {
    "name": "ipython",
    "version": 3
   },
   "file_extension": ".py",
   "mimetype": "text/x-python",
   "name": "python",
   "nbconvert_exporter": "python",
   "pygments_lexer": "ipython3",
   "version": "3.6.5"
  }
 },
 "nbformat": 4,
 "nbformat_minor": 2
}
